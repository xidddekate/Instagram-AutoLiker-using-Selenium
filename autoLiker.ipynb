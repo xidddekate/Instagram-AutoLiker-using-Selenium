{
 "cells": [
  {
   "cell_type": "code",
   "execution_count": 1,
   "metadata": {},
   "outputs": [
    {
     "name": "stdout",
     "output_type": "stream",
     "text": [
      "Requirement already satisfied: selenium in c:\\users\\sudhanshu\\anaconda3\\lib\\site-packages (3.141.0)\n",
      "Requirement already satisfied: urllib3 in c:\\users\\sudhanshu\\anaconda3\\lib\\site-packages (from selenium) (1.25.8)\n"
     ]
    }
   ],
   "source": [
    "!pip install selenium"
   ]
  },
  {
   "cell_type": "code",
   "execution_count": 2,
   "metadata": {},
   "outputs": [],
   "source": [
    "# from selenium import webdriver\n",
    "# from selenium.webdriver.support.ui import WebDriverWait\n",
    "# import time\n",
    "# from selenium.common.exceptions import NoSuchElementException\n",
    "# from selenium.common.exceptions import ElementClickInterceptedException\n",
    "# from selenium.webdriver.common.by import By\n",
    "# from selenium.webdriver.support.ui import WebDriverWait\n",
    "# from selenium.webdriver.support import expected_conditions as EC\n",
    "# from selenium.webdriver.common.action_chains import ActionChains"
   ]
  },
  {
   "cell_type": "code",
   "execution_count": 3,
   "metadata": {},
   "outputs": [],
   "source": [
    "# driver = webdriver.Chrome('./chromedriver.exe')  \n",
    "# url = \"https://www.instagram.com/\"\n",
    "# driver.get(url)"
   ]
  },
  {
   "cell_type": "code",
   "execution_count": 4,
   "metadata": {},
   "outputs": [],
   "source": [
    "# fblogin = driver.find_element_by_xpath(\"//button[@class='sqdOP yWX7d    y3zKF     ']\")\n",
    "# fblogin.click()\n",
    "# email = driver.find_element_by_xpath(\"//input[@name='email']\")\n",
    "# email.send_keys('9304100458')\n",
    "# password = driver.find_element_by_xpath(\"//input[@name='pass']\")\n",
    "# password.send_keys('sid786sonu')\n",
    "# login = driver.find_element_by_xpath(\"//button[@name='login']\")\n",
    "# login.click()"
   ]
  },
  {
   "cell_type": "code",
   "execution_count": 5,
   "metadata": {},
   "outputs": [],
   "source": [
    "\n",
    "# email = driver.find_element_by_xpath(\"//input[@name='username']\")\n",
    "# email.send_keys('Enter Username Here')\n",
    "# password = driver.find_element_by_xpath(\"//input[@name='password']\")\n",
    "# password.send_keys('Enter password Here')\n",
    "# login = driver.find_element_by_xpath(\"//button[@class='sqdOP  L3NKy   y3zKF     ']\")\n",
    "# login.click()"
   ]
  },
  {
   "cell_type": "code",
   "execution_count": 6,
   "metadata": {},
   "outputs": [],
   "source": [
    "# # like = driver.find_element_by_xpath(\"//button[@class='wpO6b  ']\")\n",
    "# like = driver.find_elements_by_css_selector(\"div.class.QBdPU \")\n",
    "# print(type(like))\n",
    "# print(len(like))\n",
    "# like[1].click()"
   ]
  },
  {
   "cell_type": "code",
   "execution_count": 7,
   "metadata": {},
   "outputs": [],
   "source": [
    "# SCROLL_PAUSE_TIME = 2\n",
    "\n",
    "# # Get scroll height\n",
    "# last_height = driver.execute_script(\"return document.body.scrollHeight\")\n",
    "# x=0\n",
    "# y=500\n",
    "# c=1\n",
    "# while True:\n",
    "#     # Scroll down to bottom\n",
    "#     driver.execute_script(f\"window.scrollTo({x}, {y});\")\n",
    "#     x=y\n",
    "#     y+=500\n",
    "#     buttons = driver.find_elements_by_css_selector(\"svg.class._8-yf5 \")\n",
    "#     buttons[c].click()\n",
    "#     c+=1\n",
    "#     # Wait to load page\n",
    "#     time.sleep(SCROLL_PAUSE_TIME)\n",
    "    \n",
    "#     # Calculate new scroll height and compare with last scroll height\n",
    "# #     new_height = driver.execute_script(\"return document.body.scrollHeight\")\n",
    "# #     if new_height == last_height:\n",
    "# #         break\n",
    "# #     last_height = new_height"
   ]
  },
  {
   "cell_type": "code",
   "execution_count": 8,
   "metadata": {},
   "outputs": [],
   "source": [
    "# class infine_scroll(object):\n",
    "   \n",
    "#   def __init__(self, last):\n",
    "    \n",
    "#     self.last = last\n",
    "\n",
    "#   def __call__(self, driver):\n",
    "#     new = driver.execute_script('return document.body.scrollHeight')  \n",
    "#     if new > self.last:\n",
    "#         return new\n",
    "#     else:\n",
    "#         return False"
   ]
  },
  {
   "cell_type": "code",
   "execution_count": 9,
   "metadata": {},
   "outputs": [],
   "source": [
    "# last_height = driver.execute_script('return document.body.scrollHeight')\n",
    "# flag=1\n",
    "# while flag==1:\n",
    "\n",
    "#   driver.execute_script('window.scrollTo(0,1500)')\n",
    "\n",
    "#   try:\n",
    "#    wait = WebDriverWait(driver, 10)\n",
    "\n",
    "#    new_height = wait.until(infinite_scroll( last_height))\n",
    "#    last_height = new_height\n",
    "\n",
    "#   except:\n",
    "#       print(\"End of page reached\")\n",
    "#       flag = 0"
   ]
  },
  {
   "cell_type": "markdown",
   "metadata": {},
   "source": [
    "# Real Code"
   ]
  },
  {
   "cell_type": "code",
   "execution_count": 10,
   "metadata": {},
   "outputs": [],
   "source": [
    "from bs4 import BeautifulSoup as bs\n",
    "import selenium.common.exceptions\n",
    "from selenium import webdriver\n",
    "import time\n",
    "from selenium.webdriver.common.keys import Keys\n",
    " \n",
    "username = \"Enter Username Here\"\n",
    "\n",
    "password = \"Enter Username Here\"\n",
    " \n",
    "url = \"https://www.instagram.com/\""
   ]
  },
  {
   "cell_type": "code",
   "execution_count": 11,
   "metadata": {},
   "outputs": [],
   "source": [
    "def path():  \n",
    "    global chrome\n",
    "    exe_path = \"./chromedriver.exe\"\n",
    " \n",
    "    # starts a new chrome session\n",
    "    chrome = webdriver.Chrome(executable_path = exe_path)"
   ]
  },
  {
   "cell_type": "code",
   "execution_count": 12,
   "metadata": {},
   "outputs": [],
   "source": [
    "def setURLname(url):  \n",
    "    chrome.get(url) \n",
    "    time.sleep(4) "
   ]
  },
  {
   "cell_type": "code",
   "execution_count": null,
   "metadata": {},
   "outputs": [],
   "source": []
  },
  {
   "cell_type": "code",
   "execution_count": null,
   "metadata": {},
   "outputs": [],
   "source": []
  },
  {
   "cell_type": "code",
   "execution_count": null,
   "metadata": {},
   "outputs": [],
   "source": []
  },
  {
   "cell_type": "code",
   "execution_count": 13,
   "metadata": {},
   "outputs": [],
   "source": [
    "def logintoInsta(username, your_password):\n",
    "    usern = chrome.find_element_by_name(\"username\")    \n",
    "\n",
    "    usern.send_keys(username)   \n",
    " \n",
    "    passw = chrome.find_element_by_name(\"password\")    \n",
    " \n",
    "    passw.send_keys(your_password)      \n",
    "    passw.send_keys(Keys.RETURN)\n",
    "    time.sleep(6)\n",
    "    notn = chrome.find_element_by_class_name(\"yWX7d\")# dont save info button\n",
    "    notn.click()# click don't save button\n",
    "    time.sleep(3)\n",
    "    notnow= chrome.find_element_by_xpath(\"//button[@class='aOOlW   HoLwm ']\")\n",
    "    notnow.click()\n",
    "    time.sleep(0.5)"
   ]
  },
  {
   "cell_type": "code",
   "execution_count": 14,
   "metadata": {},
   "outputs": [],
   "source": [
    "def sendLike():\n",
    "    while(True):\n",
    "        likes = chrome.find_elements_by_class_name('fr66n')\n",
    "        for like in likes:\n",
    "            soup = bs(like.get_attribute('innerHTML'),'html.parser')\n",
    "            if soup.find('svg')['aria-label'] == 'Like':\n",
    "                like.click()\n",
    "            time.sleep(2)"
   ]
  },
  {
   "cell_type": "code",
   "execution_count": 17,
   "metadata": {},
   "source": [
    "path()\n",
    "time.sleep(1)\n",
    " \n",
    "setURLname(url)\n",
    " \n",
    "logintoInsta(username, password)\n",
    "\n",
    "sendLike()"
   ]
  },
  {
   "cell_type": "code",
   "execution_count": null,
   "metadata": {},
   "outputs": [],
   "source": []
  },
  {
   "cell_type": "code",
   "execution_count": null,
   "metadata": {},
   "outputs": [],
   "source": []
  }
 ],
 "metadata": {
  "kernelspec": {
   "display_name": "Python 3",
   "language": "python",
   "name": "python3"
  },
  "language_info": {
   "codemirror_mode": {
    "name": "ipython",
    "version": 3
   },
   "file_extension": ".py",
   "mimetype": "text/x-python",
   "name": "python",
   "nbconvert_exporter": "python",
   "pygments_lexer": "ipython3",
   "version": "3.7.6"
  }
 },
 "nbformat": 4,
 "nbformat_minor": 4
}
